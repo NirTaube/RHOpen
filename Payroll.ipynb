{
 "cells": [
  {
   "cell_type": "code",
   "execution_count": 1,
   "id": "50c50192",
   "metadata": {},
   "outputs": [
    {
     "name": "stdout",
     "output_type": "stream",
     "text": [
      "Enter the number of associates: 5\n"
     ]
    }
   ],
   "source": [
    "# Get user inputs\n",
    "num_associates = int(input(\"Enter the number of associates: \"))"
   ]
  },
  {
   "cell_type": "code",
   "execution_count": 2,
   "id": "11e31d3e",
   "metadata": {},
   "outputs": [
    {
     "name": "stdout",
     "output_type": "stream",
     "text": [
      "Enter the hourly cost of each associate: 17\n"
     ]
    }
   ],
   "source": [
    "hourly_cost = float(input(\"Enter the hourly cost of each associate: \"))\n"
   ]
  },
  {
   "cell_type": "code",
   "execution_count": 3,
   "id": "46217a08",
   "metadata": {},
   "outputs": [
    {
     "name": "stdout",
     "output_type": "stream",
     "text": [
      "Enter the hours worked per associate: 28\n"
     ]
    }
   ],
   "source": [
    "hours_per_associate = float(input(\"Enter the hours worked per associate: \"))\n"
   ]
  },
  {
   "cell_type": "code",
   "execution_count": 4,
   "id": "047ffdc9",
   "metadata": {},
   "outputs": [
    {
     "name": "stdout",
     "output_type": "stream",
     "text": [
      "Enter the yearly salary of the assistant manager: 55000\n"
     ]
    }
   ],
   "source": [
    "assistant_manager_salary = float(input(\"Enter the yearly salary of the assistant manager: \"))\n"
   ]
  },
  {
   "cell_type": "code",
   "execution_count": 5,
   "id": "7c1dd0c9",
   "metadata": {},
   "outputs": [
    {
     "name": "stdout",
     "output_type": "stream",
     "text": [
      "Enter the yearly salary of the manager: 87000\n"
     ]
    }
   ],
   "source": [
    "manager_salary = float(input(\"Enter the yearly salary of the manager: \"))\n"
   ]
  },
  {
   "cell_type": "code",
   "execution_count": 6,
   "id": "d56b29cc",
   "metadata": {},
   "outputs": [
    {
     "name": "stdout",
     "output_type": "stream",
     "text": [
      "Enter the net sales for the given period: 140000\n"
     ]
    }
   ],
   "source": [
    "net_sales = float(input(\"Enter the net sales for the given period: \"))\n"
   ]
  },
  {
   "cell_type": "code",
   "execution_count": 7,
   "id": "8f265915",
   "metadata": {},
   "outputs": [
    {
     "name": "stdout",
     "output_type": "stream",
     "text": [
      "Enter the percentage of net sales responsibility for associates (in decimal form): .65\n"
     ]
    }
   ],
   "source": [
    "associate_responsibility = float(input(\"Enter the percentage of net sales responsibility for associates (in decimal form): \"))\n"
   ]
  },
  {
   "cell_type": "code",
   "execution_count": 8,
   "id": "28db06e5",
   "metadata": {},
   "outputs": [
    {
     "name": "stdout",
     "output_type": "stream",
     "text": [
      "Enter the percentage of net sales responsibility for assistant manager (in decimal form): .25\n"
     ]
    }
   ],
   "source": [
    "assistant_manager_responsibility = float(input(\"Enter the percentage of net sales responsibility for assistant manager (in decimal form): \"))"
   ]
  },
  {
   "cell_type": "code",
   "execution_count": 9,
   "id": "b8d83590",
   "metadata": {},
   "outputs": [
    {
     "name": "stdout",
     "output_type": "stream",
     "text": [
      "Enter the percentage of net sales responsibility for manager (in decimal form): .1\n"
     ]
    }
   ],
   "source": [
    "manager_responsibility = float(input(\"Enter the percentage of net sales responsibility for manager (in decimal form): \"))\n"
   ]
  },
  {
   "cell_type": "code",
   "execution_count": 10,
   "id": "9e297ee4",
   "metadata": {},
   "outputs": [
    {
     "name": "stdout",
     "output_type": "stream",
     "text": [
      "Enter the percentage for commission tier 1 (in decimal form): .02\n",
      "Enter the percentage for commission tier 2 (in decimal form): .04\n",
      "Enter the percentage for commission tier 3 (in decimal form): .06\n",
      "Enter the percentage for commission tier 4 (in decimal form): .08\n",
      "Enter the percentage for commission tier 5 (in decimal form): .10\n"
     ]
    }
   ],
   "source": [
    "commission_tier1 = float(input(\"Enter the percentage for commission tier 1 (in decimal form): \"))\n",
    "commission_tier2 = float(input(\"Enter the percentage for commission tier 2 (in decimal form): \"))\n",
    "commission_tier3 = float(input(\"Enter the percentage for commission tier 3 (in decimal form): \"))\n",
    "commission_tier4 = float(input(\"Enter the percentage for commission tier 4 (in decimal form): \"))\n",
    "commission_tier5 = float(input(\"Enter the percentage for commission tier 5 (in decimal form): \"))"
   ]
  },
  {
   "cell_type": "code",
   "execution_count": 11,
   "id": "ad2c4620",
   "metadata": {},
   "outputs": [
    {
     "name": "stdout",
     "output_type": "stream",
     "text": [
      "-------------------------------------------\n",
      "Monthly payroll cost: $ 21353.33\n",
      "Salary wages as percentage of payroll:  0.08 %\n",
      "Hourly wages as percentage of payroll:  0.07 %\n",
      "Commission Tier 1 as percentage of payroll:  16.55 %\n",
      "Commission Tier 2 as percentage of payroll:  17.85 %\n",
      "Commission Tier 3 as percentage of payroll:  19.15 %\n",
      "Commission Tier 4 as percentage of payroll:  20.45 %\n",
      "Commission Tier 5 as percentage of payroll:  21.75 %\n"
     ]
    }
   ],
   "source": [
    "# Calculate monthly costs and percentage payroll\n",
    "monthly_hours = num_associates * hours_per_associate * 4 # Assuming a 4-week month\n",
    "monthly_salary_cost = assistant_manager_salary/12 + manager_salary/12\n",
    "monthly_hourly_cost = num_associates * hours_per_associate * hourly_cost * 4\n",
    "monthly_commission1 = net_sales * associate_responsibility * commission_tier1\n",
    "monthly_commission2 = net_sales * associate_responsibility * commission_tier2\n",
    "monthly_commission3 = net_sales * associate_responsibility * commission_tier3\n",
    "monthly_commission4 = net_sales * associate_responsibility * commission_tier4\n",
    "monthly_commission5 = net_sales * associate_responsibility * commission_tier5\n",
    "\n",
    "monthly_payroll = monthly_salary_cost + monthly_hourly_cost\n",
    "\n",
    "monthly_salary_percentage = monthly_salary_cost / net_sales \n",
    "monthly_hourly_percentage = monthly_hourly_cost / net_sales\n",
    "monthly_commission1_percentage = (monthly_payroll + monthly_commission1) / net_sales * 100 \n",
    "monthly_commission2_percentage = (monthly_payroll + monthly_commission2) / net_sales * 100 \n",
    "monthly_commission3_percentage = (monthly_payroll + monthly_commission3) / net_sales * 100\n",
    "monthly_commission4_percentage = (monthly_payroll + monthly_commission4) / net_sales * 100 \n",
    "monthly_commission5_percentage = (monthly_payroll + monthly_commission5) / net_sales * 100 \n",
    "\n",
    "print(\"-------------------------------------------\")     \n",
    "\n",
    "# Print results\n",
    "print(\"Monthly payroll cost: $\", round(monthly_payroll, 2))\n",
    "print(\"Salary wages as percentage of payroll: \", round(monthly_salary_percentage, 2), \"%\")\n",
    "print(\"Hourly wages as percentage of payroll: \", round(monthly_hourly_percentage, 2), \"%\")\n",
    "print(\"Commission Tier 1 as percentage of payroll: \", round(monthly_commission1_percentage, 2), \"%\")\n",
    "print(\"Commission Tier 2 as percentage of payroll: \", round(monthly_commission2_percentage, 2), \"%\")\n",
    "print(\"Commission Tier 3 as percentage of payroll: \", round(monthly_commission3_percentage, 2), \"%\")\n",
    "print(\"Commission Tier 4 as percentage of payroll: \", round(monthly_commission4_percentage, 2), \"%\")\n",
    "print(\"Commission Tier 5 as percentage of payroll: \", round(monthly_commission5_percentage, 2), \"%\")\n"
   ]
  },
  {
   "cell_type": "code",
   "execution_count": 12,
   "id": "4a92309a",
   "metadata": {},
   "outputs": [
    {
     "data": {
      "text/html": [
       "<div>\n",
       "<style scoped>\n",
       "    .dataframe tbody tr th:only-of-type {\n",
       "        vertical-align: middle;\n",
       "    }\n",
       "\n",
       "    .dataframe tbody tr th {\n",
       "        vertical-align: top;\n",
       "    }\n",
       "\n",
       "    .dataframe thead th {\n",
       "        text-align: right;\n",
       "    }\n",
       "</style>\n",
       "<table border=\"1\" class=\"dataframe\">\n",
       "  <thead>\n",
       "    <tr style=\"text-align: right;\">\n",
       "      <th></th>\n",
       "      <th>Monthly Payroll Cost</th>\n",
       "      <th>Salary Wages as % of Payroll</th>\n",
       "      <th>Hourly Wages as % of Payroll</th>\n",
       "      <th>Commission Tier 1 as % of Payroll</th>\n",
       "      <th>Commission Tier 2 as % of Payroll</th>\n",
       "      <th>Commission Tier 3 as % of Payroll</th>\n",
       "      <th>Commission Tier 4 as % of Payroll</th>\n",
       "      <th>Commission Tier 5 as % of Payroll</th>\n",
       "    </tr>\n",
       "  </thead>\n",
       "  <tbody>\n",
       "    <tr>\n",
       "      <th>0</th>\n",
       "      <td>21353.33</td>\n",
       "      <td>0.08</td>\n",
       "      <td>0.07</td>\n",
       "      <td>16.55</td>\n",
       "      <td>17.85</td>\n",
       "      <td>19.15</td>\n",
       "      <td>20.45</td>\n",
       "      <td>21.75</td>\n",
       "    </tr>\n",
       "  </tbody>\n",
       "</table>\n",
       "</div>"
      ],
      "text/plain": [
       "   Monthly Payroll Cost  Salary Wages as % of Payroll  \\\n",
       "0              21353.33                          0.08   \n",
       "\n",
       "   Hourly Wages as % of Payroll  Commission Tier 1 as % of Payroll  \\\n",
       "0                          0.07                              16.55   \n",
       "\n",
       "   Commission Tier 2 as % of Payroll  Commission Tier 3 as % of Payroll  \\\n",
       "0                              17.85                              19.15   \n",
       "\n",
       "   Commission Tier 4 as % of Payroll  Commission Tier 5 as % of Payroll  \n",
       "0                              20.45                              21.75  "
      ]
     },
     "execution_count": 12,
     "metadata": {},
     "output_type": "execute_result"
    }
   ],
   "source": [
    "import pandas as pd\n",
    "\n",
    "#dictionary with the payroll data\n",
    "payroll_dict = {\n",
    "    \"Monthly Payroll Cost\": [round(monthly_payroll, 2)],\n",
    "    \"Salary Wages as % of Payroll\": [round(monthly_salary_percentage, 2)],\n",
    "    \"Hourly Wages as % of Payroll\": [round(monthly_hourly_percentage, 2)],\n",
    "    \"Commission Tier 1 as % of Payroll\": [round(monthly_commission1_percentage, 2)],\n",
    "    \"Commission Tier 2 as % of Payroll\": [round(monthly_commission2_percentage, 2)],\n",
    "    \"Commission Tier 3 as % of Payroll\": [round(monthly_commission3_percentage, 2)],\n",
    "    \"Commission Tier 4 as % of Payroll\": [round(monthly_commission4_percentage, 2)],\n",
    "    \"Commission Tier 5 as % of Payroll\": [round(monthly_commission5_percentage, 2)]\n",
    "}\n",
    "\n",
    "# Create a Pandas dataframe from the dictionary\n",
    "payroll_df = pd.DataFrame.from_dict(payroll_dict)\n",
    "\n",
    "# Print the dataframe\n",
    "payroll_df"
   ]
  },
  {
   "cell_type": "code",
   "execution_count": null,
   "id": "57241484",
   "metadata": {},
   "outputs": [],
   "source": []
  },
  {
   "cell_type": "code",
   "execution_count": null,
   "id": "183100a1",
   "metadata": {},
   "outputs": [],
   "source": [
    "\n",
    "# Create a dictionary with the payroll data\n",
    "payroll_dict = {\n",
    "    \"Monthly Payroll Cost\": [round(monthly_payroll, 2)],\n",
    "    \"Salary Wages as % of Payroll\": [round(monthly_salary_percentage, 2)],\n",
    "    \"Hourly Wages as % of Payroll\": [round(monthly_hourly_percentage, 2)],\n",
    "    \"Commission Tier 1 as % of Payroll\": [round(monthly_commission1_percentage, 2)],\n",
    "    \"Commission Tier 2 as % of Payroll\": [round(monthly_commission2_percentage, 2)],\n",
    "    \"Commission Tier 3 as % of Payroll\": [round(monthly_commission3_percentage, 2)],\n",
    "    \"Commission Tier 4 as % of Payroll\": [round(monthly_commission4_percentage, 2)],\n",
    "    \"Commission Tier 5 as % of Payroll\": [round(monthly_commission5_percentage, 2)]\n",
    "}\n"
   ]
  },
  {
   "cell_type": "code",
   "execution_count": 13,
   "id": "fe1e7a74",
   "metadata": {},
   "outputs": [
    {
     "data": {
      "text/html": [
       "<div>\n",
       "<style scoped>\n",
       "    .dataframe tbody tr th:only-of-type {\n",
       "        vertical-align: middle;\n",
       "    }\n",
       "\n",
       "    .dataframe tbody tr th {\n",
       "        vertical-align: top;\n",
       "    }\n",
       "\n",
       "    .dataframe thead th {\n",
       "        text-align: right;\n",
       "    }\n",
       "</style>\n",
       "<table border=\"1\" class=\"dataframe\">\n",
       "  <thead>\n",
       "    <tr style=\"text-align: right;\">\n",
       "      <th></th>\n",
       "      <th>Monthly Payroll Cost</th>\n",
       "      <th>Salary Wages as % of Payroll</th>\n",
       "      <th>Hourly Wages as % of Payroll</th>\n",
       "      <th>Commission Tier 1 as % of Payroll</th>\n",
       "      <th>Commission Tier 2 as % of Payroll</th>\n",
       "      <th>Commission Tier 3 as % of Payroll</th>\n",
       "      <th>Commission Tier 4 as % of Payroll</th>\n",
       "      <th>Commission Tier 5 as % of Payroll</th>\n",
       "    </tr>\n",
       "  </thead>\n",
       "  <tbody>\n",
       "    <tr>\n",
       "      <th>0</th>\n",
       "      <td>21353.33</td>\n",
       "      <td>0.08</td>\n",
       "      <td>0.07</td>\n",
       "      <td>16.55</td>\n",
       "      <td>17.85</td>\n",
       "      <td>19.15</td>\n",
       "      <td>20.45</td>\n",
       "      <td>21.75</td>\n",
       "    </tr>\n",
       "  </tbody>\n",
       "</table>\n",
       "</div>"
      ],
      "text/plain": [
       "   Monthly Payroll Cost  Salary Wages as % of Payroll  \\\n",
       "0              21353.33                          0.08   \n",
       "\n",
       "   Hourly Wages as % of Payroll  Commission Tier 1 as % of Payroll  \\\n",
       "0                          0.07                              16.55   \n",
       "\n",
       "   Commission Tier 2 as % of Payroll  Commission Tier 3 as % of Payroll  \\\n",
       "0                              17.85                              19.15   \n",
       "\n",
       "   Commission Tier 4 as % of Payroll  Commission Tier 5 as % of Payroll  \n",
       "0                              20.45                              21.75  "
      ]
     },
     "execution_count": 13,
     "metadata": {},
     "output_type": "execute_result"
    }
   ],
   "source": [
    "\n",
    "# Create a Pandas dataframe from the dictionary\n",
    "payroll_df = pd.DataFrame.from_dict(payroll_dict)\n",
    "\n",
    "# Print the dataframe\n",
    "payroll_df\n"
   ]
  },
  {
   "cell_type": "code",
   "execution_count": 14,
   "id": "9ff8a6e4",
   "metadata": {},
   "outputs": [
    {
     "data": {
      "text/html": [
       "<div>\n",
       "<style scoped>\n",
       "    .dataframe tbody tr th:only-of-type {\n",
       "        vertical-align: middle;\n",
       "    }\n",
       "\n",
       "    .dataframe tbody tr th {\n",
       "        vertical-align: top;\n",
       "    }\n",
       "\n",
       "    .dataframe thead th {\n",
       "        text-align: right;\n",
       "    }\n",
       "</style>\n",
       "<table border=\"1\" class=\"dataframe\">\n",
       "  <thead>\n",
       "    <tr style=\"text-align: right;\">\n",
       "      <th></th>\n",
       "      <th>Commission Structures</th>\n",
       "      <th>Cost in Dollar Amount</th>\n",
       "      <th>Cost in Percentage Payroll</th>\n",
       "      <th>Total Cost with Monthly Salary</th>\n",
       "      <th>Total Cost in Percentage with Monthly Salary</th>\n",
       "    </tr>\n",
       "  </thead>\n",
       "  <tbody>\n",
       "    <tr>\n",
       "      <th>0</th>\n",
       "      <td>Commission Tier 1</td>\n",
       "      <td>1820.0</td>\n",
       "      <td>16.55</td>\n",
       "      <td>23173.333333</td>\n",
       "      <td>16.55</td>\n",
       "    </tr>\n",
       "    <tr>\n",
       "      <th>1</th>\n",
       "      <td>Commission Tier 2</td>\n",
       "      <td>3640.0</td>\n",
       "      <td>17.85</td>\n",
       "      <td>24993.333333</td>\n",
       "      <td>17.85</td>\n",
       "    </tr>\n",
       "    <tr>\n",
       "      <th>2</th>\n",
       "      <td>Commission Tier 3</td>\n",
       "      <td>5460.0</td>\n",
       "      <td>19.15</td>\n",
       "      <td>26813.333333</td>\n",
       "      <td>19.15</td>\n",
       "    </tr>\n",
       "    <tr>\n",
       "      <th>3</th>\n",
       "      <td>Commission Tier 4</td>\n",
       "      <td>7280.0</td>\n",
       "      <td>20.45</td>\n",
       "      <td>28633.333333</td>\n",
       "      <td>20.45</td>\n",
       "    </tr>\n",
       "    <tr>\n",
       "      <th>4</th>\n",
       "      <td>Commission Tier 5</td>\n",
       "      <td>9100.0</td>\n",
       "      <td>21.75</td>\n",
       "      <td>30453.333333</td>\n",
       "      <td>21.75</td>\n",
       "    </tr>\n",
       "  </tbody>\n",
       "</table>\n",
       "</div>"
      ],
      "text/plain": [
       "  Commission Structures  Cost in Dollar Amount  Cost in Percentage Payroll  \\\n",
       "0     Commission Tier 1                 1820.0                       16.55   \n",
       "1     Commission Tier 2                 3640.0                       17.85   \n",
       "2     Commission Tier 3                 5460.0                       19.15   \n",
       "3     Commission Tier 4                 7280.0                       20.45   \n",
       "4     Commission Tier 5                 9100.0                       21.75   \n",
       "\n",
       "   Total Cost with Monthly Salary  \\\n",
       "0                    23173.333333   \n",
       "1                    24993.333333   \n",
       "2                    26813.333333   \n",
       "3                    28633.333333   \n",
       "4                    30453.333333   \n",
       "\n",
       "   Total Cost in Percentage with Monthly Salary  \n",
       "0                                         16.55  \n",
       "1                                         17.85  \n",
       "2                                         19.15  \n",
       "3                                         20.45  \n",
       "4                                         21.75  "
      ]
     },
     "execution_count": 14,
     "metadata": {},
     "output_type": "execute_result"
    }
   ],
   "source": [
    "\n",
    "\n",
    "# Calculate monthly costs and percentage payroll\n",
    "monthly_hours = num_associates * hours_per_associate * 4 # Assuming a 4-week month\n",
    "monthly_salary_cost = assistant_manager_salary/12 + manager_salary/12\n",
    "monthly_hourly_cost = num_associates * hours_per_associate * hourly_cost * 4\n",
    "monthly_commission1 = net_sales * associate_responsibility * commission_tier1\n",
    "monthly_commission2 = net_sales * associate_responsibility * commission_tier2\n",
    "monthly_commission3 = net_sales * associate_responsibility * commission_tier3\n",
    "monthly_commission4 = net_sales * associate_responsibility * commission_tier4\n",
    "monthly_commission5 = net_sales * associate_responsibility * commission_tier5\n",
    "\n",
    "monthly_payroll = monthly_salary_cost + monthly_hourly_cost\n",
    "\n",
    "monthly_salary_percentage = monthly_salary_cost / net_sales \n",
    "monthly_hourly_percentage = monthly_hourly_cost / net_sales\n",
    "monthly_commission1_percentage = (monthly_payroll + monthly_commission1) / net_sales * 100 \n",
    "monthly_commission2_percentage = (monthly_payroll + monthly_commission2) / net_sales * 100 \n",
    "monthly_commission3_percentage = (monthly_payroll + monthly_commission3) / net_sales * 100\n",
    "monthly_commission4_percentage = (monthly_payroll + monthly_commission4) / net_sales * 100 \n",
    "monthly_commission5_percentage = (monthly_payroll + monthly_commission5) / net_sales * 100 \n",
    "\n",
    "# Create pandas dataframe\n",
    "data = {'Commission Structures': ['Commission Tier 1', 'Commission Tier 2', 'Commission Tier 3', 'Commission Tier 4', 'Commission Tier 5'],\n",
    "        'Cost in Dollar Amount': [monthly_commission1, monthly_commission2, monthly_commission3, monthly_commission4, monthly_commission5],\n",
    "        'Cost in Percentage Payroll': [round(monthly_commission1_percentage, 2), round(monthly_commission2_percentage, 2), round(monthly_commission3_percentage, 2), round(monthly_commission4_percentage, 2), round(monthly_commission5_percentage, 2)],\n",
    "        'Total Cost with Monthly Salary': [monthly_commission1 + monthly_payroll, monthly_commission2 + monthly_payroll, monthly_commission3 + monthly_payroll, monthly_commission4 + monthly_payroll, monthly_commission5 + monthly_payroll],\n",
    "        'Total Cost in Percentage with Monthly Salary': [round((monthly_commission1 + monthly_payroll) / net_sales * 100, 2), round((monthly_commission2 + monthly_payroll) / net_sales * 100, 2), round((monthly_commission3 + monthly_payroll) / net_sales * 100, 2), round((monthly_commission4 + monthly_payroll) / net_sales * 100, 2), round((monthly_commission5 + monthly_payroll) / net_sales * 100, 2)]\n",
    "       }\n",
    "\n",
    "payroll_dff = pd.DataFrame(data)\n",
    "payroll_dff\n"
   ]
  },
  {
   "cell_type": "code",
   "execution_count": null,
   "id": "f7d8e260",
   "metadata": {},
   "outputs": [],
   "source": [
    "import matplotlib.pyplot as plt\n",
    "\n",
    "# Create data\n",
    "commission_tiers = ['Tier 1', 'Tier 2', 'Tier 3', 'Tier 4', 'Tier 5']\n",
    "costs = [monthly_commission1, monthly_commission2, monthly_commission3, monthly_commission4, monthly_commission5]\n",
    "costs_pct_payroll = [monthly_commission1_percentage, monthly_commission2_percentage, monthly_commission3_percentage, monthly_commission4_percentage, monthly_commission5_percentage]\n",
    "total_cost_with_salary = [monthly_payroll + monthly_commission1, monthly_payroll + monthly_commission2, monthly_payroll + monthly_commission3, monthly_payroll + monthly_commission4, monthly_payroll + monthly_commission5]\n",
    "total_cost_pct_with_salary = [monthly_commission1_percentage + monthly_salary_percentage, monthly_commission2_percentage + monthly_salary_percentage, monthly_commission3_percentage + monthly_salary_percentage, monthly_commission4_percentage + monthly_salary_percentage, monthly_commission5_percentage + monthly_salary_percentage]\n",
    "\n",
    "# Create figure and axis objects\n",
    "fig, ax = plt.subplots()\n",
    "\n",
    "# Create horizontal bar chart\n",
    "bar_width = 0.2\n",
    "bar_positions = [i*bar_width for i in range(len(commission_tiers))]\n",
    "ax.barh(bar_positions, costs, height=bar_width, label='Cost')\n",
    "ax.barh([pos + bar_width for pos in bar_positions], costs_pct_payroll, height=bar_width, label='% Payroll')\n",
    "ax.barh([pos + bar_width*2 for pos in bar_positions], total_cost_with_salary, height=bar_width, label='Total Cost w/ Salary')\n",
    "ax.barh([pos + bar_width*3 for pos in bar_positions], total_cost_pct_with_salary, height=bar_width, label='% Total Cost w/ Salary')\n",
    "\n",
    "# Add labels, legend, and title\n",
    "ax.set_yticks(bar_positions)\n",
    "ax.set_yticklabels(commission_tiers)\n",
    "ax.set_xlabel('Dollar Amount')\n",
    "ax.legend()\n",
    "plt.title('Payroll Costs by Commission Tier')\n",
    "\n",
    "# Show plot\n",
    "plt.show()\n"
   ]
  },
  {
   "cell_type": "code",
   "execution_count": null,
   "id": "afcb68e7",
   "metadata": {},
   "outputs": [],
   "source": [
    "import seaborn as sns\n",
    "import matplotlib.pyplot as plt\n",
    "\n",
    "# create a dictionary with the payroll data\n",
    "payroll_data = {\"Commission Structures\": [\"Tier 1\", \"Tier 2\", \"Tier 3\", \"Tier 4\", \"Tier 5\"],\n",
    "                \"Dollar Amount\": [monthly_commission1, monthly_commission2, monthly_commission3, \n",
    "                                  monthly_commission4, monthly_commission5],\n",
    "                \"Payroll Percentage\": [monthly_commission1_percentage, monthly_commission2_percentage, \n",
    "                                       monthly_commission3_percentage, monthly_commission4_percentage, \n",
    "                                       monthly_commission5_percentage],\n",
    "                \"Total Cost with Monthly Salary\": [monthly_commission1+monthly_payroll, monthly_commission2+monthly_payroll, \n",
    "                                                   monthly_commission3+monthly_payroll, monthly_commission4+monthly_payroll, \n",
    "                                                   monthly_commission5+monthly_payroll],\n",
    "                \"Total Cost in Percentage with Monthly Salary\": [(monthly_commission1+monthly_payroll)/net_sales*100, \n",
    "                                                                  (monthly_commission2+monthly_payroll)/net_sales*100, \n",
    "                                                                  (monthly_commission3+monthly_payroll)/net_sales*100, \n",
    "                                                                  (monthly_commission4+monthly_payroll)/net_sales*100, \n",
    "                                                                  (monthly_commission5+monthly_payroll)/net_sales*100]}\n",
    "\n",
    "# create a pandas DataFrame from the dictionary\n",
    "payroll_df = pd.DataFrame(payroll_data)\n",
    "\n",
    "# set the style for the plot\n",
    "sns.set(style=\"whitegrid\")\n",
    "\n",
    "# create the plot\n",
    "fig, ax = plt.subplots(figsize=(10,6))\n",
    "sns.barplot(x=\"Commission Structures\", y=\"Dollar Amount\", data=payroll_df, color='skyblue')\n",
    "sns.lineplot(x=\"Commission Structures\", y=\"Payroll Percentage\", data=payroll_df, marker='o', color='orange', \n",
    "             label='Payroll Percentage')\n",
    "\n",
    "# add labels to the plot\n",
    "ax.set_xlabel(\"Commission Structures\", fontsize=12)\n",
    "ax.set_ylabel(\"Dollar Amount\", fontsize=12)\n",
    "ax.set_title(\"Payroll Chart\", fontsize=14)\n",
    "\n",
    "# set the y-axis label format to display the dollar amount with a $ sign\n",
    "ax.yaxis.set_major_formatter('${x:,.0f}')\n",
    "\n",
    "# create a secondary y-axis to show the payroll percentage\n",
    "ax2 = ax.twinx()\n",
    "ax2.set_ylabel(\"Payroll Percentage\", fontsize=12, color='orange')\n",
    "ax2.tick_params(axis='y', labelcolor='orange')\n",
    "ax2.set_ylim(0,100)\n",
    "\n",
    "# display the plot\n",
    "plt.show()\n"
   ]
  },
  {
   "cell_type": "code",
   "execution_count": null,
   "id": "bd70e173",
   "metadata": {},
   "outputs": [],
   "source": [
    "import plotly.graph_objs as go\n",
    "\n",
    "# Data\n",
    "commission_tiers = ['Tier 1', 'Tier 2', 'Tier 3', 'Tier 4', 'Tier 5']\n",
    "cost_dollars = [monthly_commission1, monthly_commission2, monthly_commission3, monthly_commission4, monthly_commission5]\n",
    "cost_percentages = [monthly_commission1_percentage, monthly_commission2_percentage, monthly_commission3_percentage, monthly_commission4_percentage, monthly_commission5_percentage]\n",
    "total_cost_dollars = [monthly_payroll + monthly_commission1, monthly_payroll + monthly_commission2, monthly_payroll + monthly_commission3, monthly_payroll + monthly_commission4, monthly_payroll + monthly_commission5]\n",
    "total_cost_percentages = [monthly_commission1_percentage + monthly_salary_percentage, monthly_commission2_percentage + monthly_salary_percentage, monthly_commission3_percentage + monthly_salary_percentage, monthly_commission4_percentage + monthly_salary_percentage, monthly_commission5_percentage + monthly_salary_percentage]\n",
    "\n",
    "# Create trace for cost in dollars\n",
    "trace1 = go.Bar(\n",
    "    x=commission_tiers,\n",
    "    y=cost_dollars,\n",
    "    name='Cost in dollars'\n",
    ")\n",
    "\n",
    "# Create trace for cost in percentage payroll\n",
    "trace2 = go.Bar(\n",
    "    x=commission_tiers,\n",
    "    y=cost_percentages,\n",
    "    name='Cost in percentage payroll'\n",
    ")\n",
    "\n",
    "# Create trace for total cost with monthly salary\n",
    "trace3 = go.Bar(\n",
    "    x=commission_tiers,\n",
    "    y=total_cost_dollars,\n",
    "    name='Total cost with monthly salary'\n",
    ")\n",
    "\n",
    "# Create trace for total cost in percentage with monthly salary\n",
    "trace4 = go.Bar(\n",
    "    x=commission_tiers,\n",
    "    y=total_cost_percentages,\n",
    "    name='Total cost in percentage with monthly salary'\n",
    ")\n",
    "\n",
    "# Create layout\n",
    "layout = go.Layout(\n",
    "    title='Payroll Chart',\n",
    "    xaxis={'title': 'Commission Tiers'},\n",
    "    yaxis={'title': 'Dollars / Percentage'},\n",
    "    barmode='group'\n",
    ")\n",
    "\n",
    "# Combine traces and layout to create figure\n",
    "data = [trace1, trace2, trace3, trace4]\n",
    "fig = go.Figure(data=data, layout=layout)\n",
    "\n",
    "# Display figure\n",
    "fig.show()\n"
   ]
  },
  {
   "cell_type": "code",
   "execution_count": null,
   "id": "d27423d9",
   "metadata": {},
   "outputs": [],
   "source": [
    "from bokeh.io import output_file, show\n",
    "from bokeh.models import ColumnDataSource\n",
    "from bokeh.palettes import Spectral5\n",
    "from bokeh.plotting import figure\n",
    "from bokeh.transform import factor_cmap\n",
    "from bokeh.models import ColumnDataSource, HoverTool\n",
    "from bokeh.plotting import figure, show\n",
    "from bokeh.palettes import Spectral6\n",
    "from bokeh.models.formatters import NumeralTickFormatter\n",
    "\n",
    "\n",
    "# Define the data\n",
    "commission_structures = ['Commission Tier 1', 'Commission Tier 2', 'Commission Tier 3', 'Commission Tier 4', 'Commission Tier 5']\n",
    "costs = [monthly_commission1, monthly_commission2, monthly_commission3, monthly_commission4, monthly_commission5]\n",
    "cost_percentages = [monthly_commission1_percentage, monthly_commission2_percentage, monthly_commission3_percentage, monthly_commission4_percentage, monthly_commission5_percentage]\n",
    "total_costs = [monthly_commission1 + monthly_payroll, monthly_commission2 + monthly_payroll, monthly_commission3 + monthly_payroll, monthly_commission4 + monthly_payroll, monthly_commission5 + monthly_payroll]\n",
    "total_cost_percentages = [100 * (monthly_commission1 + monthly_payroll) / net_sales, 100 * (monthly_commission2 + monthly_payroll) / net_sales, 100 * (monthly_commission3 + monthly_payroll) / net_sales, 100 * (monthly_commission4 + monthly_payroll) / net_sales, 100 * (monthly_commission5 + monthly_payroll) / net_sales]\n",
    "\n",
    "# Create a ColumnDataSource object\n",
    "source = ColumnDataSource(data=dict(commission_structures=commission_structures, costs=costs, cost_percentages=cost_percentages, total_costs=total_costs, total_cost_percentages=total_cost_percentages))\n",
    "\n",
    "# Create the figure object\n",
    "p = figure(x_range=commission_structures, plot_height=400, title=\"Payroll Information\", toolbar_location=None, tools=\"\")\n",
    "\n",
    "# Create the bars\n",
    "p.vbar(x='commission_structures', top='costs', width=0.5, legend_label=\"Cost\", source=source, line_color='white', fill_color=factor_cmap('commission_structures', palette=Spectral5, factors=commission_structures))\n",
    "\n",
    "# Add hover tooltips\n",
    "p.add_tools(HoverTool(tooltips=[(\"Cost\", \"@costs{0.00}\"), (\"Cost Percentage\", \"@cost_percentages{0.00}%\"), (\"Total Cost\", \"@total_costs{0.00}\"), (\"Total Cost Percentage\", \"@total_cost_percentages{0.00}%\")]))\n",
    "\n",
    "# Style the chart\n",
    "p.xgrid.grid_line_color = None\n",
    "p.y_range.start = 0\n",
    "p.yaxis.formatter = NumeralTickFormatter(format=\"$0,0\")\n",
    "p.xaxis.axis_label = \"Commission Structures\"\n",
    "p.yaxis.axis_label = \"Cost\"\n",
    "\n",
    "# Show the chart\n",
    "show(p)\n"
   ]
  },
  {
   "cell_type": "code",
   "execution_count": null,
   "id": "5023b851",
   "metadata": {},
   "outputs": [],
   "source": [
    "alt.renderers.enable('notebook')"
   ]
  },
  {
   "cell_type": "code",
   "execution_count": null,
   "id": "72867b80",
   "metadata": {},
   "outputs": [],
   "source": [
    "pip install altair vega_datasets"
   ]
  },
  {
   "cell_type": "code",
   "execution_count": null,
   "id": "803ac2e7",
   "metadata": {},
   "outputs": [],
   "source": []
  },
  {
   "cell_type": "code",
   "execution_count": null,
   "id": "c463c60f",
   "metadata": {},
   "outputs": [],
   "source": [
    "import altair as alt\n",
    "\n",
    "# Create the dataframe\n",
    "payroll_df = pd.DataFrame({\n",
    "    'Commission Structure': ['Salary', 'Hourly', 'Commission Tier 1', 'Commission Tier 2', 'Commission Tier 3', 'Commission Tier 4', 'Commission Tier 5'],\n",
    "    'Cost ($)': [monthly_salary_cost, monthly_hourly_cost, monthly_commission1, monthly_commission2, monthly_commission3, monthly_commission4, monthly_commission5],\n",
    "    'Cost (% of Payroll)': [monthly_salary_cost / monthly_payroll, monthly_hourly_cost / monthly_payroll, monthly_commission1_percentage / 100, monthly_commission2_percentage / 100, monthly_commission3_percentage / 100, monthly_commission4_percentage / 100, monthly_commission5_percentage / 100],\n",
    "    'Total Cost with Monthly Salary ($)': [monthly_salary_cost, monthly_hourly_cost + monthly_salary_cost, monthly_commission1 + monthly_salary_cost, monthly_commission2 + monthly_salary_cost, monthly_commission3 + monthly_salary_cost, monthly_commission4 + monthly_salary_cost, monthly_commission5 + monthly_salary_cost],\n",
    "    'Total Cost with Monthly Salary (% of Sales)': [(monthly_salary_cost + monthly_commission1) / net_sales, (monthly_hourly_cost + monthly_salary_cost + monthly_commission2) / net_sales, (monthly_commission1 + monthly_salary_cost + monthly_commission1) / net_sales, (monthly_commission2 + monthly_salary_cost + monthly_commission2) / net_sales, (monthly_commission3 + monthly_salary_cost + monthly_commission3) / net_sales, (monthly_commission4 + monthly_salary_cost + monthly_commission4) / net_sales, (monthly_commission5 + monthly_salary_cost + monthly_commission5) / net_sales]\n",
    "})\n",
    "\n",
    "# Create the chart\n",
    "chart = alt.Chart(payroll_df).mark_bar().encode(\n",
    "    x='Commission Structure:N',\n",
    "    y='Total Cost with Monthly Salary ($):Q',\n",
    "    color='Commission Structure:N',\n",
    "    tooltip=['Commission Structure', 'Cost ($)', 'Cost (% of Payroll)', 'Total Cost with Monthly Salary ($)', 'Total Cost with Monthly Salary (% of Sales)']\n",
    ").properties(\n",
    "    title='Payroll Chart'\n",
    ")\n",
    "\n",
    "# Show the chart\n",
    "chart.show()\n"
   ]
  },
  {
   "cell_type": "code",
   "execution_count": null,
   "id": "3add8f81",
   "metadata": {},
   "outputs": [],
   "source": [
    "import numpy as np\n",
    "\n",
    "# Calculate monthly costs and percentage payroll\n",
    "# ...\n",
    "\n",
    "# Create matrix\n",
    "matrix = np.array([[round(monthly_salary_cost, 2), round(monthly_hourly_cost, 2), round(monthly_payroll, 2)],\n",
    "                   [round(monthly_salary_percentage, 2), round(monthly_hourly_percentage, 2), np.nan],\n",
    "                   [round(monthly_commission1_percentage, 2), round(monthly_commission2_percentage, 2), round(monthly_commission3_percentage, 2)],\n",
    "                   [round(monthly_commission4_percentage, 2), round(monthly_commission5_percentage, 2), np.nan]])\n",
    "\n",
    "# Print matrix\n",
    "print(matrix)\n"
   ]
  },
  {
   "cell_type": "code",
   "execution_count": null,
   "id": "d7909f0d",
   "metadata": {},
   "outputs": [],
   "source": [
    "import numpy as np\n",
    "\n",
    "# Define the ranges and commission tiers\n",
    "ranges = [0, 5000, 10000, 15000, 20000]\n",
    "tiers = [1, 2, 3, 4, 5]\n",
    "\n",
    "# Create an empty matrix\n",
    "matrix = np.zeros((len(tiers), len(ranges)))\n",
    "\n",
    "# Fill in the matrix with the costs for each range and commission tier\n",
    "for i, tier in enumerate(tiers):\n",
    "    for j, r in enumerate(ranges):\n",
    "        if tier == 1:\n",
    "            matrix[i, j] = r * 0.02\n",
    "        elif tier == 2:\n",
    "            matrix[i, j] = r * 0.04\n",
    "        elif tier == 3:\n",
    "            matrix[i, j] = r * 0.06\n",
    "        elif tier == 4:\n",
    "            matrix[i, j] = r * 0.08\n",
    "        elif tier == 5:\n",
    "            matrix[i, j] = r * 0.010\n",
    "\n",
    "# Print the matrix\n",
    "print(matrix)\n"
   ]
  },
  {
   "cell_type": "code",
   "execution_count": null,
   "id": "ee60e1da",
   "metadata": {},
   "outputs": [],
   "source": []
  }
 ],
 "metadata": {
  "kernelspec": {
   "display_name": "Python 3 (ipykernel)",
   "language": "python",
   "name": "python3"
  },
  "language_info": {
   "codemirror_mode": {
    "name": "ipython",
    "version": 3
   },
   "file_extension": ".py",
   "mimetype": "text/x-python",
   "name": "python",
   "nbconvert_exporter": "python",
   "pygments_lexer": "ipython3",
   "version": "3.9.13"
  }
 },
 "nbformat": 4,
 "nbformat_minor": 5
}
